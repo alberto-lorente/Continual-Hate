{
 "cells": [
  {
   "cell_type": "code",
   "execution_count": 1,
   "id": "f08fbf34",
   "metadata": {},
   "outputs": [],
   "source": [
    "import pandas as pd \n",
    "import os \n",
    "import numpy as np\n",
    "import json\n"
   ]
  },
  {
   "cell_type": "code",
   "execution_count": 2,
   "id": "46ccd753",
   "metadata": {},
   "outputs": [],
   "source": [
    "list_files = [file_ for file_ in os.listdir() if file_.endswith(\"RESULTS.json\")]\n",
    "json_files = []\n",
    "for json_file in list_files:\n",
    "    \n",
    "    with open(json_file, \"r\") as f:\n",
    "        js = json.load(f)\n",
    "        json_files.append(js)"
   ]
  },
  {
   "cell_type": "code",
   "execution_count": 3,
   "id": "d787452a",
   "metadata": {},
   "outputs": [
    {
     "data": {
      "text/plain": [
       "dict_keys(['model', 'type_experiment', 'n_trainable_params', 'cl_technique', 'hyperparams', 'experiment_name', 'time', 'dataset_currently_testing', 'dataset_currently_training', 'dataset_wrt_training_datasets', 'target_epochs', 'best_epochs', 'learning_rate', 'batch_size', 'current_num_samples_training', 'cumulative_samples_trained', 'f1_score', 'precision_score', 'recall_score', 'accuracy', 'HATE_f1_score', 'HATE_precision_score', 'HATE_recall_score', 'NoHATE_f1_score', 'NoHATE_precision_score', 'NoHATE_recall_score', 'predictions', 'labels', 'generations', 'unfiltered_outputs', 'verbalized_labels'])"
      ]
     },
     "execution_count": 3,
     "metadata": {},
     "output_type": "execute_result"
    }
   ],
   "source": [
    "json_files[0][0].keys()"
   ]
  },
  {
   "cell_type": "code",
   "execution_count": 4,
   "id": "4335baaa",
   "metadata": {},
   "outputs": [],
   "source": [
    "keys_to_exclude = [\"predictions\", \"labels\", \"generations\", \"unfiltered_outputs\"]"
   ]
  },
  {
   "cell_type": "code",
   "execution_count": 5,
   "id": "7abb8dfc",
   "metadata": {},
   "outputs": [
    {
     "data": {
      "text/plain": [
       "dict"
      ]
     },
     "execution_count": 5,
     "metadata": {},
     "output_type": "execute_result"
    }
   ],
   "source": [
    "type(json_files[0][0])"
   ]
  },
  {
   "cell_type": "code",
   "execution_count": 6,
   "id": "b6cd93a6",
   "metadata": {},
   "outputs": [],
   "source": [
    "for time in json_files:\n",
    "    for d in time:\n",
    "        for key in keys_to_exclude:\n",
    "            d.pop(key, None)\n"
   ]
  },
  {
   "cell_type": "code",
   "execution_count": 7,
   "id": "cc9bd5a9",
   "metadata": {},
   "outputs": [
    {
     "data": {
      "text/plain": [
       "dict_keys(['model', 'type_experiment', 'n_trainable_params', 'cl_technique', 'hyperparams', 'experiment_name', 'time', 'dataset_currently_testing', 'dataset_currently_training', 'dataset_wrt_training_datasets', 'target_epochs', 'best_epochs', 'learning_rate', 'batch_size', 'current_num_samples_training', 'cumulative_samples_trained', 'f1_score', 'precision_score', 'recall_score', 'accuracy', 'HATE_f1_score', 'HATE_precision_score', 'HATE_recall_score', 'NoHATE_f1_score', 'NoHATE_precision_score', 'NoHATE_recall_score', 'verbalized_labels'])"
      ]
     },
     "execution_count": 7,
     "metadata": {},
     "output_type": "execute_result"
    }
   ],
   "source": [
    "json_files[0][0].keys()"
   ]
  },
  {
   "cell_type": "code",
   "execution_count": 8,
   "id": "1ec8d594",
   "metadata": {},
   "outputs": [],
   "source": [
    "json_files = [item for sublist in json_files for item in sublist]\n"
   ]
  },
  {
   "cell_type": "code",
   "execution_count": 9,
   "id": "a8d38e1d",
   "metadata": {},
   "outputs": [
    {
     "data": {
      "text/plain": [
       "48"
      ]
     },
     "execution_count": 9,
     "metadata": {},
     "output_type": "execute_result"
    }
   ],
   "source": [
    "len(json_files)"
   ]
  },
  {
   "cell_type": "code",
   "execution_count": 10,
   "id": "39fb5400",
   "metadata": {},
   "outputs": [],
   "source": [
    "df = pd.DataFrame(data=json_files, columns=json_files[0].keys())"
   ]
  },
  {
   "cell_type": "code",
   "execution_count": 11,
   "id": "5e92fe84",
   "metadata": {},
   "outputs": [
    {
     "data": {
      "text/html": [
       "<div>\n",
       "<style scoped>\n",
       "    .dataframe tbody tr th:only-of-type {\n",
       "        vertical-align: middle;\n",
       "    }\n",
       "\n",
       "    .dataframe tbody tr th {\n",
       "        vertical-align: top;\n",
       "    }\n",
       "\n",
       "    .dataframe thead th {\n",
       "        text-align: right;\n",
       "    }\n",
       "</style>\n",
       "<table border=\"1\" class=\"dataframe\">\n",
       "  <thead>\n",
       "    <tr style=\"text-align: right;\">\n",
       "      <th></th>\n",
       "      <th>model</th>\n",
       "      <th>type_experiment</th>\n",
       "      <th>n_trainable_params</th>\n",
       "      <th>cl_technique</th>\n",
       "      <th>hyperparams</th>\n",
       "      <th>experiment_name</th>\n",
       "      <th>time</th>\n",
       "      <th>dataset_currently_testing</th>\n",
       "      <th>dataset_currently_training</th>\n",
       "      <th>dataset_wrt_training_datasets</th>\n",
       "      <th>...</th>\n",
       "      <th>precision_score</th>\n",
       "      <th>recall_score</th>\n",
       "      <th>accuracy</th>\n",
       "      <th>HATE_f1_score</th>\n",
       "      <th>HATE_precision_score</th>\n",
       "      <th>HATE_recall_score</th>\n",
       "      <th>NoHATE_f1_score</th>\n",
       "      <th>NoHATE_precision_score</th>\n",
       "      <th>NoHATE_recall_score</th>\n",
       "      <th>verbalized_labels</th>\n",
       "    </tr>\n",
       "  </thead>\n",
       "  <tbody>\n",
       "    <tr>\n",
       "      <th>0</th>\n",
       "      <td>HuggingFaceTB/SmolLM2-360M-Instruct</td>\n",
       "      <td>GO</td>\n",
       "      <td>47248320</td>\n",
       "      <td>ZERO_SHOT_TESTING</td>\n",
       "      <td>NA</td>\n",
       "      <td></td>\n",
       "      <td>NA</td>\n",
       "      <td>evalita</td>\n",
       "      <td>NA</td>\n",
       "      <td>zero_shot</td>\n",
       "      <td>...</td>\n",
       "      <td>0.239097</td>\n",
       "      <td>0.109313</td>\n",
       "      <td>0.151000</td>\n",
       "      <td>0.384123</td>\n",
       "      <td>0.467290</td>\n",
       "      <td>0.326087</td>\n",
       "      <td>0.003676</td>\n",
       "      <td>0.250000</td>\n",
       "      <td>0.001852</td>\n",
       "      <td>[NOT HATEFUL, NOT HATEFUL, NOT HATEFUL, HATEFU...</td>\n",
       "    </tr>\n",
       "    <tr>\n",
       "      <th>1</th>\n",
       "      <td>HuggingFaceTB/SmolLM2-360M-Instruct</td>\n",
       "      <td>GO</td>\n",
       "      <td>47248320</td>\n",
       "      <td>ZERO_SHOT_TESTING</td>\n",
       "      <td>NA</td>\n",
       "      <td></td>\n",
       "      <td>NA</td>\n",
       "      <td>ibereval</td>\n",
       "      <td>NA</td>\n",
       "      <td>zero_shot</td>\n",
       "      <td>...</td>\n",
       "      <td>0.297101</td>\n",
       "      <td>0.043155</td>\n",
       "      <td>0.050964</td>\n",
       "      <td>0.192000</td>\n",
       "      <td>0.391304</td>\n",
       "      <td>0.127208</td>\n",
       "      <td>0.004494</td>\n",
       "      <td>0.500000</td>\n",
       "      <td>0.002257</td>\n",
       "      <td>[HATEFUL, HATEFUL, NOT HATEFUL, NOT HATEFUL, N...</td>\n",
       "    </tr>\n",
       "    <tr>\n",
       "      <th>2</th>\n",
       "      <td>HuggingFaceTB/SmolLM2-360M-Instruct</td>\n",
       "      <td>GO</td>\n",
       "      <td>47248320</td>\n",
       "      <td>ZERO_SHOT_TESTING</td>\n",
       "      <td>NA</td>\n",
       "      <td></td>\n",
       "      <td>NA</td>\n",
       "      <td>hateval-immigrant</td>\n",
       "      <td>NA</td>\n",
       "      <td>zero_shot</td>\n",
       "      <td>...</td>\n",
       "      <td>0.345352</td>\n",
       "      <td>0.218662</td>\n",
       "      <td>0.276184</td>\n",
       "      <td>0.503695</td>\n",
       "      <td>0.411055</td>\n",
       "      <td>0.650238</td>\n",
       "      <td>0.011390</td>\n",
       "      <td>0.625000</td>\n",
       "      <td>0.005747</td>\n",
       "      <td>[NOT HATEFUL, NOT HATEFUL, NOT HATEFUL, HATEFU...</td>\n",
       "    </tr>\n",
       "    <tr>\n",
       "      <th>3</th>\n",
       "      <td>HuggingFaceTB/SmolLM2-360M-Instruct</td>\n",
       "      <td>GO</td>\n",
       "      <td>47248320</td>\n",
       "      <td>ZERO_SHOT_TESTING</td>\n",
       "      <td>NA</td>\n",
       "      <td></td>\n",
       "      <td>NA</td>\n",
       "      <td>davidson</td>\n",
       "      <td>NA</td>\n",
       "      <td>zero_shot</td>\n",
       "      <td>...</td>\n",
       "      <td>0.287879</td>\n",
       "      <td>0.047057</td>\n",
       "      <td>0.038462</td>\n",
       "      <td>0.161157</td>\n",
       "      <td>0.196970</td>\n",
       "      <td>0.136364</td>\n",
       "      <td>0.009547</td>\n",
       "      <td>0.666667</td>\n",
       "      <td>0.004808</td>\n",
       "      <td>[HATEFUL, HATEFUL, NOT HATEFUL, NOT HATEFUL, N...</td>\n",
       "    </tr>\n",
       "    <tr>\n",
       "      <th>4</th>\n",
       "      <td>HuggingFaceTB/SmolLM2-360M-Instruct</td>\n",
       "      <td>GO</td>\n",
       "      <td>47248320</td>\n",
       "      <td>ZERO_SHOT_TESTING</td>\n",
       "      <td>NA</td>\n",
       "      <td></td>\n",
       "      <td>NA</td>\n",
       "      <td>founta_hateful_57k</td>\n",
       "      <td>NA</td>\n",
       "      <td>zero_shot</td>\n",
       "      <td>...</td>\n",
       "      <td>0.334782</td>\n",
       "      <td>0.077097</td>\n",
       "      <td>0.024497</td>\n",
       "      <td>0.072836</td>\n",
       "      <td>0.043561</td>\n",
       "      <td>0.222087</td>\n",
       "      <td>0.018234</td>\n",
       "      <td>0.960784</td>\n",
       "      <td>0.009204</td>\n",
       "      <td>[HATEFUL, NOT HATEFUL, NOT HATEFUL, NOT HATEFU...</td>\n",
       "    </tr>\n",
       "  </tbody>\n",
       "</table>\n",
       "<p>5 rows × 27 columns</p>\n",
       "</div>"
      ],
      "text/plain": [
       "                                 model type_experiment  n_trainable_params  \\\n",
       "0  HuggingFaceTB/SmolLM2-360M-Instruct              GO            47248320   \n",
       "1  HuggingFaceTB/SmolLM2-360M-Instruct              GO            47248320   \n",
       "2  HuggingFaceTB/SmolLM2-360M-Instruct              GO            47248320   \n",
       "3  HuggingFaceTB/SmolLM2-360M-Instruct              GO            47248320   \n",
       "4  HuggingFaceTB/SmolLM2-360M-Instruct              GO            47248320   \n",
       "\n",
       "        cl_technique hyperparams experiment_name time  \\\n",
       "0  ZERO_SHOT_TESTING          NA                   NA   \n",
       "1  ZERO_SHOT_TESTING          NA                   NA   \n",
       "2  ZERO_SHOT_TESTING          NA                   NA   \n",
       "3  ZERO_SHOT_TESTING          NA                   NA   \n",
       "4  ZERO_SHOT_TESTING          NA                   NA   \n",
       "\n",
       "  dataset_currently_testing dataset_currently_training  \\\n",
       "0                   evalita                         NA   \n",
       "1                  ibereval                         NA   \n",
       "2         hateval-immigrant                         NA   \n",
       "3                  davidson                         NA   \n",
       "4        founta_hateful_57k                         NA   \n",
       "\n",
       "  dataset_wrt_training_datasets  ... precision_score recall_score  accuracy  \\\n",
       "0                     zero_shot  ...        0.239097     0.109313  0.151000   \n",
       "1                     zero_shot  ...        0.297101     0.043155  0.050964   \n",
       "2                     zero_shot  ...        0.345352     0.218662  0.276184   \n",
       "3                     zero_shot  ...        0.287879     0.047057  0.038462   \n",
       "4                     zero_shot  ...        0.334782     0.077097  0.024497   \n",
       "\n",
       "  HATE_f1_score HATE_precision_score HATE_recall_score  NoHATE_f1_score  \\\n",
       "0      0.384123             0.467290          0.326087         0.003676   \n",
       "1      0.192000             0.391304          0.127208         0.004494   \n",
       "2      0.503695             0.411055          0.650238         0.011390   \n",
       "3      0.161157             0.196970          0.136364         0.009547   \n",
       "4      0.072836             0.043561          0.222087         0.018234   \n",
       "\n",
       "   NoHATE_precision_score  NoHATE_recall_score  \\\n",
       "0                0.250000             0.001852   \n",
       "1                0.500000             0.002257   \n",
       "2                0.625000             0.005747   \n",
       "3                0.666667             0.004808   \n",
       "4                0.960784             0.009204   \n",
       "\n",
       "                                   verbalized_labels  \n",
       "0  [NOT HATEFUL, NOT HATEFUL, NOT HATEFUL, HATEFU...  \n",
       "1  [HATEFUL, HATEFUL, NOT HATEFUL, NOT HATEFUL, N...  \n",
       "2  [NOT HATEFUL, NOT HATEFUL, NOT HATEFUL, HATEFU...  \n",
       "3  [HATEFUL, HATEFUL, NOT HATEFUL, NOT HATEFUL, N...  \n",
       "4  [HATEFUL, NOT HATEFUL, NOT HATEFUL, NOT HATEFU...  \n",
       "\n",
       "[5 rows x 27 columns]"
      ]
     },
     "execution_count": 11,
     "metadata": {},
     "output_type": "execute_result"
    }
   ],
   "source": [
    "df.head()"
   ]
  },
  {
   "cell_type": "code",
   "execution_count": 12,
   "id": "cd748172",
   "metadata": {},
   "outputs": [
    {
     "data": {
      "text/plain": [
       "array(['GO'], dtype=object)"
      ]
     },
     "execution_count": 12,
     "metadata": {},
     "output_type": "execute_result"
    }
   ],
   "source": [
    "df[\"type_experiment\"].unique()"
   ]
  },
  {
   "cell_type": "code",
   "execution_count": 13,
   "id": "be6df4ab",
   "metadata": {},
   "outputs": [],
   "source": [
    "df.to_csv(\"df_llm_zero_shot.csv\", index=False)"
   ]
  },
  {
   "cell_type": "code",
   "execution_count": 16,
   "id": "53780cf6",
   "metadata": {},
   "outputs": [
    {
     "data": {
      "text/plain": [
       "array(['HuggingFaceTB/SmolLM2-360M-Instruct',\n",
       "       'meta-llama/Llama-3.2-1B-Instruct',\n",
       "       'meta-llama/Llama-3.2-3B-Instruct', 'meta-llama/Llama-Guard-3-1B',\n",
       "       'Qwen/Qwen3-1.7B', 'Qwen/Qwen3-4B-Instruct-2507'], dtype=object)"
      ]
     },
     "execution_count": 16,
     "metadata": {},
     "output_type": "execute_result"
    }
   ],
   "source": [
    "df[\"model\"].unique()"
   ]
  },
  {
   "cell_type": "code",
   "execution_count": 20,
   "id": "865ef04f",
   "metadata": {},
   "outputs": [
    {
     "data": {
      "text/plain": [
       "Index(['model', 'type_experiment', 'n_trainable_params', 'cl_technique',\n",
       "       'hyperparams', 'experiment_name', 'time', 'dataset_currently_testing',\n",
       "       'dataset_currently_training', 'dataset_wrt_training_datasets',\n",
       "       'target_epochs', 'best_epochs', 'learning_rate', 'batch_size',\n",
       "       'current_num_samples_training', 'cumulative_samples_trained',\n",
       "       'f1_score', 'precision_score', 'recall_score', 'accuracy',\n",
       "       'HATE_f1_score', 'HATE_precision_score', 'HATE_recall_score',\n",
       "       'NoHATE_f1_score', 'NoHATE_precision_score', 'NoHATE_recall_score',\n",
       "       'verbalized_labels'],\n",
       "      dtype='object')"
      ]
     },
     "execution_count": 20,
     "metadata": {},
     "output_type": "execute_result"
    }
   ],
   "source": [
    "df.columns"
   ]
  },
  {
   "cell_type": "code",
   "execution_count": 18,
   "id": "9cb02c0c",
   "metadata": {},
   "outputs": [],
   "source": [
    "from continual_hate.utils import clean_up_df"
   ]
  },
  {
   "cell_type": "code",
   "execution_count": 27,
   "id": "f2b1cfdf",
   "metadata": {},
   "outputs": [],
   "source": [
    "clean_up_df(df[df[\"model\"] != \"HuggingFaceTB/SmolLM2-360M-Instruct\"][[\"model\", \"dataset_currently_testing\", \"f1_score\"]]).round(2).to_latex(\"llm_rpompting.tex\")"
   ]
  }
 ],
 "metadata": {
  "kernelspec": {
   "display_name": "Python 3",
   "language": "python",
   "name": "python3"
  },
  "language_info": {
   "codemirror_mode": {
    "name": "ipython",
    "version": 3
   },
   "file_extension": ".py",
   "mimetype": "text/x-python",
   "name": "python",
   "nbconvert_exporter": "python",
   "pygments_lexer": "ipython3",
   "version": "3.12.0"
  }
 },
 "nbformat": 4,
 "nbformat_minor": 5
}

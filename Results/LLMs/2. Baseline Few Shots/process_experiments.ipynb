{
 "cells": [
  {
   "cell_type": "code",
   "execution_count": 1,
   "id": "f08fbf34",
   "metadata": {},
   "outputs": [],
   "source": [
    "import pandas as pd \n",
    "import os \n",
    "import numpy as np\n",
    "import json"
   ]
  },
  {
   "cell_type": "code",
   "execution_count": 31,
   "id": "46ccd753",
   "metadata": {},
   "outputs": [],
   "source": [
    "list_files = [file_ for file_ in os.listdir() if file_.endswith(\"RESULTS.json\")]\n",
    "json_files = []\n",
    "for json_file in list_files:\n",
    "    \n",
    "    with open(json_file, \"r\") as f:\n",
    "        js = json.load(f)\n",
    "        json_files.append(js)"
   ]
  },
  {
   "cell_type": "code",
   "execution_count": 32,
   "id": "d787452a",
   "metadata": {},
   "outputs": [
    {
     "data": {
      "text/plain": [
       "dict_keys(['model', 'type_experiment', 'n_trainable_params', 'cl_technique', 'hyperparams', 'experiment_name', 'time', 'dataset_currently_testing', 'dataset_currently_training', 'dataset_wrt_training_datasets', 'target_epochs', 'best_epochs', 'learning_rate', 'batch_size', 'current_num_samples_training', 'cumulative_samples_trained', 'n_shots', 'iteration', 'f1_score', 'precision_score', 'recall_score', 'accuracy', 'HATE_f1_score', 'HATE_precision_score', 'HATE_recall_score', 'NoHATE_f1_score', 'NoHATE_precision_score', 'NoHATE_recall_score', 'predictions', 'labels', 'generations', 'unfiltered_outputs', 'verbalized_labels'])"
      ]
     },
     "execution_count": 32,
     "metadata": {},
     "output_type": "execute_result"
    }
   ],
   "source": [
    "json_files[0][0].keys()"
   ]
  },
  {
   "cell_type": "code",
   "execution_count": 33,
   "id": "4335baaa",
   "metadata": {},
   "outputs": [],
   "source": [
    "keys_to_exclude = [\"predictions\", \"labels\", \"generations\", \"unfiltered_outputs\"]"
   ]
  },
  {
   "cell_type": "code",
   "execution_count": null,
   "id": "f8833d7f",
   "metadata": {},
   "outputs": [],
   "source": []
  },
  {
   "cell_type": "code",
   "execution_count": 34,
   "id": "7abb8dfc",
   "metadata": {},
   "outputs": [
    {
     "data": {
      "text/plain": [
       "dict"
      ]
     },
     "execution_count": 34,
     "metadata": {},
     "output_type": "execute_result"
    }
   ],
   "source": [
    "type(json_files[0][0])"
   ]
  },
  {
   "cell_type": "code",
   "execution_count": 35,
   "id": "b6cd93a6",
   "metadata": {},
   "outputs": [],
   "source": [
    "for time in json_files:\n",
    "    for d in time:\n",
    "        for key in keys_to_exclude:\n",
    "            d.pop(key, None)\n"
   ]
  },
  {
   "cell_type": "code",
   "execution_count": 36,
   "id": "cc9bd5a9",
   "metadata": {},
   "outputs": [
    {
     "data": {
      "text/plain": [
       "dict_keys(['model', 'type_experiment', 'n_trainable_params', 'cl_technique', 'hyperparams', 'experiment_name', 'time', 'dataset_currently_testing', 'dataset_currently_training', 'dataset_wrt_training_datasets', 'target_epochs', 'best_epochs', 'learning_rate', 'batch_size', 'current_num_samples_training', 'cumulative_samples_trained', 'n_shots', 'iteration', 'f1_score', 'precision_score', 'recall_score', 'accuracy', 'HATE_f1_score', 'HATE_precision_score', 'HATE_recall_score', 'NoHATE_f1_score', 'NoHATE_precision_score', 'NoHATE_recall_score', 'verbalized_labels'])"
      ]
     },
     "execution_count": 36,
     "metadata": {},
     "output_type": "execute_result"
    }
   ],
   "source": [
    "json_files[0][0].keys()"
   ]
  },
  {
   "cell_type": "code",
   "execution_count": 37,
   "id": "1ec8d594",
   "metadata": {},
   "outputs": [],
   "source": [
    "json_files = [item for sublist in json_files for item in sublist]\n"
   ]
  },
  {
   "cell_type": "code",
   "execution_count": 38,
   "id": "a8d38e1d",
   "metadata": {},
   "outputs": [
    {
     "data": {
      "text/plain": [
       "96"
      ]
     },
     "execution_count": 38,
     "metadata": {},
     "output_type": "execute_result"
    }
   ],
   "source": [
    "len(json_files)"
   ]
  },
  {
   "cell_type": "code",
   "execution_count": 39,
   "id": "39fb5400",
   "metadata": {},
   "outputs": [],
   "source": [
    "df = pd.DataFrame(data=json_files, columns=json_files[0].keys())"
   ]
  },
  {
   "cell_type": "code",
   "execution_count": 40,
   "id": "5d870700",
   "metadata": {},
   "outputs": [
    {
     "data": {
      "text/plain": [
       "array(['meta-llama/Llama-3.2-1B-Instruct',\n",
       "       'meta-llama/Llama-3.2-3B-Instruct', 'Qwen/Qwen3-1.7B',\n",
       "       'Qwen/Qwen3-4B-Instruct-2507'], dtype=object)"
      ]
     },
     "execution_count": 40,
     "metadata": {},
     "output_type": "execute_result"
    }
   ],
   "source": [
    "df[\"model\"].unique()"
   ]
  },
  {
   "cell_type": "code",
   "execution_count": 41,
   "id": "5e92fe84",
   "metadata": {},
   "outputs": [
    {
     "data": {
      "text/html": [
       "<div>\n",
       "<style scoped>\n",
       "    .dataframe tbody tr th:only-of-type {\n",
       "        vertical-align: middle;\n",
       "    }\n",
       "\n",
       "    .dataframe tbody tr th {\n",
       "        vertical-align: top;\n",
       "    }\n",
       "\n",
       "    .dataframe thead th {\n",
       "        text-align: right;\n",
       "    }\n",
       "</style>\n",
       "<table border=\"1\" class=\"dataframe\">\n",
       "  <thead>\n",
       "    <tr style=\"text-align: right;\">\n",
       "      <th></th>\n",
       "      <th>model</th>\n",
       "      <th>type_experiment</th>\n",
       "      <th>n_trainable_params</th>\n",
       "      <th>cl_technique</th>\n",
       "      <th>hyperparams</th>\n",
       "      <th>experiment_name</th>\n",
       "      <th>time</th>\n",
       "      <th>dataset_currently_testing</th>\n",
       "      <th>dataset_currently_training</th>\n",
       "      <th>dataset_wrt_training_datasets</th>\n",
       "      <th>...</th>\n",
       "      <th>precision_score</th>\n",
       "      <th>recall_score</th>\n",
       "      <th>accuracy</th>\n",
       "      <th>HATE_f1_score</th>\n",
       "      <th>HATE_precision_score</th>\n",
       "      <th>HATE_recall_score</th>\n",
       "      <th>NoHATE_f1_score</th>\n",
       "      <th>NoHATE_precision_score</th>\n",
       "      <th>NoHATE_recall_score</th>\n",
       "      <th>verbalized_labels</th>\n",
       "    </tr>\n",
       "  </thead>\n",
       "  <tbody>\n",
       "    <tr>\n",
       "      <th>0</th>\n",
       "      <td>meta-llama/Llama-3.2-1B-Instruct</td>\n",
       "      <td>GO</td>\n",
       "      <td>262735872</td>\n",
       "      <td>FEW_SHOT_TESTING</td>\n",
       "      <td>NA</td>\n",
       "      <td></td>\n",
       "      <td>NA</td>\n",
       "      <td>evalita</td>\n",
       "      <td>NA</td>\n",
       "      <td>few_shot</td>\n",
       "      <td>...</td>\n",
       "      <td>0.557837</td>\n",
       "      <td>0.512721</td>\n",
       "      <td>0.548000</td>\n",
       "      <td>0.127413</td>\n",
       "      <td>0.568966</td>\n",
       "      <td>0.071739</td>\n",
       "      <td>0.695007</td>\n",
       "      <td>0.546709</td>\n",
       "      <td>0.953704</td>\n",
       "      <td>[NOT HATEFUL, NOT HATEFUL, NOT HATEFUL, HATEFU...</td>\n",
       "    </tr>\n",
       "    <tr>\n",
       "      <th>1</th>\n",
       "      <td>meta-llama/Llama-3.2-1B-Instruct</td>\n",
       "      <td>GO</td>\n",
       "      <td>262735872</td>\n",
       "      <td>FEW_SHOT_TESTING</td>\n",
       "      <td>NA</td>\n",
       "      <td></td>\n",
       "      <td>NA</td>\n",
       "      <td>ibereval</td>\n",
       "      <td>NA</td>\n",
       "      <td>few_shot</td>\n",
       "      <td>...</td>\n",
       "      <td>0.574552</td>\n",
       "      <td>0.578349</td>\n",
       "      <td>0.575758</td>\n",
       "      <td>0.520249</td>\n",
       "      <td>0.465181</td>\n",
       "      <td>0.590106</td>\n",
       "      <td>0.619753</td>\n",
       "      <td>0.683924</td>\n",
       "      <td>0.566591</td>\n",
       "      <td>[HATEFUL, HATEFUL, NOT HATEFUL, NOT HATEFUL, N...</td>\n",
       "    </tr>\n",
       "    <tr>\n",
       "      <th>2</th>\n",
       "      <td>meta-llama/Llama-3.2-1B-Instruct</td>\n",
       "      <td>GO</td>\n",
       "      <td>262735872</td>\n",
       "      <td>FEW_SHOT_TESTING</td>\n",
       "      <td>NA</td>\n",
       "      <td></td>\n",
       "      <td>NA</td>\n",
       "      <td>hateval-immigrant</td>\n",
       "      <td>NA</td>\n",
       "      <td>few_shot</td>\n",
       "      <td>...</td>\n",
       "      <td>0.476429</td>\n",
       "      <td>0.491910</td>\n",
       "      <td>0.557705</td>\n",
       "      <td>0.135593</td>\n",
       "      <td>0.376812</td>\n",
       "      <td>0.082671</td>\n",
       "      <td>0.702824</td>\n",
       "      <td>0.576047</td>\n",
       "      <td>0.901149</td>\n",
       "      <td>[NOT HATEFUL, NOT HATEFUL, NOT HATEFUL, HATEFU...</td>\n",
       "    </tr>\n",
       "    <tr>\n",
       "      <th>3</th>\n",
       "      <td>meta-llama/Llama-3.2-1B-Instruct</td>\n",
       "      <td>GO</td>\n",
       "      <td>262735872</td>\n",
       "      <td>FEW_SHOT_TESTING</td>\n",
       "      <td>NA</td>\n",
       "      <td></td>\n",
       "      <td>NA</td>\n",
       "      <td>davidson</td>\n",
       "      <td>NA</td>\n",
       "      <td>few_shot</td>\n",
       "      <td>...</td>\n",
       "      <td>0.704430</td>\n",
       "      <td>0.666794</td>\n",
       "      <td>0.777281</td>\n",
       "      <td>0.502994</td>\n",
       "      <td>0.586047</td>\n",
       "      <td>0.440559</td>\n",
       "      <td>0.856484</td>\n",
       "      <td>0.822813</td>\n",
       "      <td>0.893029</td>\n",
       "      <td>[HATEFUL, HATEFUL, NOT HATEFUL, NOT HATEFUL, N...</td>\n",
       "    </tr>\n",
       "    <tr>\n",
       "      <th>4</th>\n",
       "      <td>meta-llama/Llama-3.2-1B-Instruct</td>\n",
       "      <td>GO</td>\n",
       "      <td>262735872</td>\n",
       "      <td>FEW_SHOT_TESTING</td>\n",
       "      <td>NA</td>\n",
       "      <td></td>\n",
       "      <td>NA</td>\n",
       "      <td>founta_hateful_57k</td>\n",
       "      <td>NA</td>\n",
       "      <td>few_shot</td>\n",
       "      <td>...</td>\n",
       "      <td>0.529998</td>\n",
       "      <td>0.612440</td>\n",
       "      <td>0.521663</td>\n",
       "      <td>0.177485</td>\n",
       "      <td>0.101249</td>\n",
       "      <td>0.718447</td>\n",
       "      <td>0.662774</td>\n",
       "      <td>0.958748</td>\n",
       "      <td>0.506434</td>\n",
       "      <td>[HATEFUL, NOT HATEFUL, NOT HATEFUL, NOT HATEFU...</td>\n",
       "    </tr>\n",
       "  </tbody>\n",
       "</table>\n",
       "<p>5 rows × 29 columns</p>\n",
       "</div>"
      ],
      "text/plain": [
       "                              model type_experiment  n_trainable_params  \\\n",
       "0  meta-llama/Llama-3.2-1B-Instruct              GO           262735872   \n",
       "1  meta-llama/Llama-3.2-1B-Instruct              GO           262735872   \n",
       "2  meta-llama/Llama-3.2-1B-Instruct              GO           262735872   \n",
       "3  meta-llama/Llama-3.2-1B-Instruct              GO           262735872   \n",
       "4  meta-llama/Llama-3.2-1B-Instruct              GO           262735872   \n",
       "\n",
       "       cl_technique hyperparams experiment_name time  \\\n",
       "0  FEW_SHOT_TESTING          NA                   NA   \n",
       "1  FEW_SHOT_TESTING          NA                   NA   \n",
       "2  FEW_SHOT_TESTING          NA                   NA   \n",
       "3  FEW_SHOT_TESTING          NA                   NA   \n",
       "4  FEW_SHOT_TESTING          NA                   NA   \n",
       "\n",
       "  dataset_currently_testing dataset_currently_training  \\\n",
       "0                   evalita                         NA   \n",
       "1                  ibereval                         NA   \n",
       "2         hateval-immigrant                         NA   \n",
       "3                  davidson                         NA   \n",
       "4        founta_hateful_57k                         NA   \n",
       "\n",
       "  dataset_wrt_training_datasets  ... precision_score recall_score  accuracy  \\\n",
       "0                      few_shot  ...        0.557837     0.512721  0.548000   \n",
       "1                      few_shot  ...        0.574552     0.578349  0.575758   \n",
       "2                      few_shot  ...        0.476429     0.491910  0.557705   \n",
       "3                      few_shot  ...        0.704430     0.666794  0.777281   \n",
       "4                      few_shot  ...        0.529998     0.612440  0.521663   \n",
       "\n",
       "  HATE_f1_score HATE_precision_score HATE_recall_score  NoHATE_f1_score  \\\n",
       "0      0.127413             0.568966          0.071739         0.695007   \n",
       "1      0.520249             0.465181          0.590106         0.619753   \n",
       "2      0.135593             0.376812          0.082671         0.702824   \n",
       "3      0.502994             0.586047          0.440559         0.856484   \n",
       "4      0.177485             0.101249          0.718447         0.662774   \n",
       "\n",
       "   NoHATE_precision_score  NoHATE_recall_score  \\\n",
       "0                0.546709             0.953704   \n",
       "1                0.683924             0.566591   \n",
       "2                0.576047             0.901149   \n",
       "3                0.822813             0.893029   \n",
       "4                0.958748             0.506434   \n",
       "\n",
       "                                   verbalized_labels  \n",
       "0  [NOT HATEFUL, NOT HATEFUL, NOT HATEFUL, HATEFU...  \n",
       "1  [HATEFUL, HATEFUL, NOT HATEFUL, NOT HATEFUL, N...  \n",
       "2  [NOT HATEFUL, NOT HATEFUL, NOT HATEFUL, HATEFU...  \n",
       "3  [HATEFUL, HATEFUL, NOT HATEFUL, NOT HATEFUL, N...  \n",
       "4  [HATEFUL, NOT HATEFUL, NOT HATEFUL, NOT HATEFU...  \n",
       "\n",
       "[5 rows x 29 columns]"
      ]
     },
     "execution_count": 41,
     "metadata": {},
     "output_type": "execute_result"
    }
   ],
   "source": [
    "df.head()"
   ]
  },
  {
   "cell_type": "code",
   "execution_count": 42,
   "id": "cd748172",
   "metadata": {},
   "outputs": [
    {
     "data": {
      "text/plain": [
       "array(['GO'], dtype=object)"
      ]
     },
     "execution_count": 42,
     "metadata": {},
     "output_type": "execute_result"
    }
   ],
   "source": [
    "df[\"type_experiment\"].unique()"
   ]
  },
  {
   "cell_type": "code",
   "execution_count": 43,
   "id": "fd1b3eb1",
   "metadata": {},
   "outputs": [],
   "source": [
    "from continual_hate.utils import clean_up_df"
   ]
  },
  {
   "cell_type": "code",
   "execution_count": 44,
   "id": "280dbe93",
   "metadata": {},
   "outputs": [
    {
     "data": {
      "text/plain": [
       "Index(['model', 'type_experiment', 'n_trainable_params', 'cl_technique',\n",
       "       'hyperparams', 'experiment_name', 'time', 'dataset_currently_testing',\n",
       "       'dataset_currently_training', 'dataset_wrt_training_datasets',\n",
       "       'target_epochs', 'best_epochs', 'learning_rate', 'batch_size',\n",
       "       'current_num_samples_training', 'cumulative_samples_trained', 'n_shots',\n",
       "       'iteration', 'f1_score', 'precision_score', 'recall_score', 'accuracy',\n",
       "       'HATE_f1_score', 'HATE_precision_score', 'HATE_recall_score',\n",
       "       'NoHATE_f1_score', 'NoHATE_precision_score', 'NoHATE_recall_score',\n",
       "       'verbalized_labels'],\n",
       "      dtype='object')"
      ]
     },
     "execution_count": 44,
     "metadata": {},
     "output_type": "execute_result"
    }
   ],
   "source": [
    "df.columns"
   ]
  },
  {
   "cell_type": "code",
   "execution_count": 45,
   "id": "8e099ac6",
   "metadata": {},
   "outputs": [
    {
     "data": {
      "text/plain": [
       "array(['meta-llama/Llama-3.2-1B-Instruct',\n",
       "       'meta-llama/Llama-3.2-3B-Instruct', 'Qwen/Qwen3-1.7B',\n",
       "       'Qwen/Qwen3-4B-Instruct-2507'], dtype=object)"
      ]
     },
     "execution_count": 45,
     "metadata": {},
     "output_type": "execute_result"
    }
   ],
   "source": [
    "df[\"model\"].unique()"
   ]
  },
  {
   "cell_type": "code",
   "execution_count": 46,
   "id": "bb66376e",
   "metadata": {},
   "outputs": [],
   "source": [
    "clean_up_df(df[df[\"model\"] != \"HuggingFaceTB/SmolLM2-360M-Instruct\"][[\"model\", \"dataset_currently_testing\",\"n_shots\", \"f1_score\"]]).round(2).to_latex(\"llm_rpompting.tex\")"
   ]
  },
  {
   "cell_type": "code",
   "execution_count": 13,
   "id": "be6df4ab",
   "metadata": {},
   "outputs": [],
   "source": [
    "df.to_csv(\"df_llm_few_shot.csv\", index=False)"
   ]
  }
 ],
 "metadata": {
  "kernelspec": {
   "display_name": "Python 3",
   "language": "python",
   "name": "python3"
  },
  "language_info": {
   "codemirror_mode": {
    "name": "ipython",
    "version": 3
   },
   "file_extension": ".py",
   "mimetype": "text/x-python",
   "name": "python",
   "nbconvert_exporter": "python",
   "pygments_lexer": "ipython3",
   "version": "3.12.0"
  }
 },
 "nbformat": 4,
 "nbformat_minor": 5
}

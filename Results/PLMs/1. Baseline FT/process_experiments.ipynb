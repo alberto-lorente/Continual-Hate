{
 "cells": [
  {
   "cell_type": "code",
   "execution_count": 34,
   "id": "f08fbf34",
   "metadata": {},
   "outputs": [],
   "source": [
    "import pandas as pd \n",
    "import os \n",
    "import numpy as np\n",
    "import json\n"
   ]
  },
  {
   "cell_type": "code",
   "execution_count": 35,
   "id": "46ccd753",
   "metadata": {},
   "outputs": [],
   "source": [
    "list_files = [file_ for file_ in os.listdir() if file_.endswith(\"RESULTS.json\")]\n",
    "json_files = []\n",
    "for json_file in list_files:\n",
    "    \n",
    "    with open(json_file, \"r\") as f:\n",
    "        js = json.load(f)\n",
    "        json_files.append(js)"
   ]
  },
  {
   "cell_type": "code",
   "execution_count": 36,
   "id": "d787452a",
   "metadata": {},
   "outputs": [
    {
     "data": {
      "text/plain": [
       "dict_keys(['model', 'type_experiment', 'n_trainable_params', 'cl_technique', 'hyperparams', 'experiment_name', 'time', 'dataset_currently_testing', 'dataset_currently_training', 'dataset_wrt_training_datasets', 'target_epochs', 'best_epochs', 'learning_rate', 'batch_size', 'current_num_samples_training', 'cumulative_samples_trained', 'f1_score', 'precision_score', 'recall_score', 'accuracy', 'HATE_f1_score', 'HATE_precision_score', 'HATE_recall_score', 'NoHATE_f1_score', 'NoHATE_precision_score', 'NoHATE_recall_score', 'predictions', 'labels', 'generations', 'unfiltered_outputs'])"
      ]
     },
     "execution_count": 36,
     "metadata": {},
     "output_type": "execute_result"
    }
   ],
   "source": [
    "json_files[0][0].keys()"
   ]
  },
  {
   "cell_type": "code",
   "execution_count": 37,
   "id": "4335baaa",
   "metadata": {},
   "outputs": [],
   "source": [
    "keys_to_exclude = [\"predictions\", \"labels\", \"generations\", \"unfiltered_outputs\"]"
   ]
  },
  {
   "cell_type": "code",
   "execution_count": 38,
   "id": "7abb8dfc",
   "metadata": {},
   "outputs": [
    {
     "data": {
      "text/plain": [
       "dict"
      ]
     },
     "execution_count": 38,
     "metadata": {},
     "output_type": "execute_result"
    }
   ],
   "source": [
    "type(json_files[0][0])"
   ]
  },
  {
   "cell_type": "code",
   "execution_count": 39,
   "id": "b6cd93a6",
   "metadata": {},
   "outputs": [],
   "source": [
    "for time in json_files:\n",
    "    for d in time:\n",
    "        for key in keys_to_exclude:\n",
    "            d.pop(key, None)\n"
   ]
  },
  {
   "cell_type": "code",
   "execution_count": 40,
   "id": "cc9bd5a9",
   "metadata": {},
   "outputs": [
    {
     "data": {
      "text/plain": [
       "dict_keys(['model', 'type_experiment', 'n_trainable_params', 'cl_technique', 'hyperparams', 'experiment_name', 'time', 'dataset_currently_testing', 'dataset_currently_training', 'dataset_wrt_training_datasets', 'target_epochs', 'best_epochs', 'learning_rate', 'batch_size', 'current_num_samples_training', 'cumulative_samples_trained', 'f1_score', 'precision_score', 'recall_score', 'accuracy', 'HATE_f1_score', 'HATE_precision_score', 'HATE_recall_score', 'NoHATE_f1_score', 'NoHATE_precision_score', 'NoHATE_recall_score'])"
      ]
     },
     "execution_count": 40,
     "metadata": {},
     "output_type": "execute_result"
    }
   ],
   "source": [
    "json_files[0][0].keys()"
   ]
  },
  {
   "cell_type": "code",
   "execution_count": 41,
   "id": "1ec8d594",
   "metadata": {},
   "outputs": [],
   "source": [
    "json_files = [item for sublist in json_files for item in sublist]\n"
   ]
  },
  {
   "cell_type": "code",
   "execution_count": 42,
   "id": "a8d38e1d",
   "metadata": {},
   "outputs": [
    {
     "data": {
      "text/plain": [
       "192"
      ]
     },
     "execution_count": 42,
     "metadata": {},
     "output_type": "execute_result"
    }
   ],
   "source": [
    "len(json_files)"
   ]
  },
  {
   "cell_type": "code",
   "execution_count": 43,
   "id": "39fb5400",
   "metadata": {},
   "outputs": [],
   "source": [
    "df = pd.DataFrame(data=json_files, columns=json_files[0].keys())"
   ]
  },
  {
   "cell_type": "code",
   "execution_count": 44,
   "id": "5e92fe84",
   "metadata": {},
   "outputs": [
    {
     "data": {
      "text/html": [
       "<div>\n",
       "<style scoped>\n",
       "    .dataframe tbody tr th:only-of-type {\n",
       "        vertical-align: middle;\n",
       "    }\n",
       "\n",
       "    .dataframe tbody tr th {\n",
       "        vertical-align: top;\n",
       "    }\n",
       "\n",
       "    .dataframe thead th {\n",
       "        text-align: right;\n",
       "    }\n",
       "</style>\n",
       "<table border=\"1\" class=\"dataframe\">\n",
       "  <thead>\n",
       "    <tr style=\"text-align: right;\">\n",
       "      <th></th>\n",
       "      <th>model</th>\n",
       "      <th>type_experiment</th>\n",
       "      <th>n_trainable_params</th>\n",
       "      <th>cl_technique</th>\n",
       "      <th>hyperparams</th>\n",
       "      <th>experiment_name</th>\n",
       "      <th>time</th>\n",
       "      <th>dataset_currently_testing</th>\n",
       "      <th>dataset_currently_training</th>\n",
       "      <th>dataset_wrt_training_datasets</th>\n",
       "      <th>...</th>\n",
       "      <th>f1_score</th>\n",
       "      <th>precision_score</th>\n",
       "      <th>recall_score</th>\n",
       "      <th>accuracy</th>\n",
       "      <th>HATE_f1_score</th>\n",
       "      <th>HATE_precision_score</th>\n",
       "      <th>HATE_recall_score</th>\n",
       "      <th>NoHATE_f1_score</th>\n",
       "      <th>NoHATE_precision_score</th>\n",
       "      <th>NoHATE_recall_score</th>\n",
       "    </tr>\n",
       "  </thead>\n",
       "  <tbody>\n",
       "    <tr>\n",
       "      <th>0</th>\n",
       "      <td>diptanu/fBERT</td>\n",
       "      <td>test</td>\n",
       "      <td>109483778</td>\n",
       "      <td>BASIC_FT</td>\n",
       "      <td></td>\n",
       "      <td>davidson</td>\n",
       "      <td>0</td>\n",
       "      <td>davidson</td>\n",
       "      <td>davidson</td>\n",
       "      <td>IN_TRAINING</td>\n",
       "      <td>...</td>\n",
       "      <td>0.513450</td>\n",
       "      <td>0.557692</td>\n",
       "      <td>0.536437</td>\n",
       "      <td>0.59375</td>\n",
       "      <td>0.315789</td>\n",
       "      <td>0.500000</td>\n",
       "      <td>0.230769</td>\n",
       "      <td>0.711111</td>\n",
       "      <td>0.615385</td>\n",
       "      <td>0.842105</td>\n",
       "    </tr>\n",
       "    <tr>\n",
       "      <th>1</th>\n",
       "      <td>diptanu/fBERT</td>\n",
       "      <td>test</td>\n",
       "      <td>109483778</td>\n",
       "      <td>BASIC_FT</td>\n",
       "      <td></td>\n",
       "      <td>davidson</td>\n",
       "      <td>0</td>\n",
       "      <td>evalita</td>\n",
       "      <td>davidson</td>\n",
       "      <td>ZERO_SHOT_not_in_training_stream</td>\n",
       "      <td>...</td>\n",
       "      <td>0.247059</td>\n",
       "      <td>0.250000</td>\n",
       "      <td>0.246032</td>\n",
       "      <td>0.25000</td>\n",
       "      <td>0.200000</td>\n",
       "      <td>0.187500</td>\n",
       "      <td>0.214286</td>\n",
       "      <td>0.294118</td>\n",
       "      <td>0.312500</td>\n",
       "      <td>0.277778</td>\n",
       "    </tr>\n",
       "    <tr>\n",
       "      <th>2</th>\n",
       "      <td>diptanu/fBERT</td>\n",
       "      <td>test</td>\n",
       "      <td>109483778</td>\n",
       "      <td>BASIC_FT</td>\n",
       "      <td></td>\n",
       "      <td>davidson</td>\n",
       "      <td>0</td>\n",
       "      <td>ibereval</td>\n",
       "      <td>davidson</td>\n",
       "      <td>ZERO_SHOT_not_in_training_stream</td>\n",
       "      <td>...</td>\n",
       "      <td>0.563636</td>\n",
       "      <td>0.583333</td>\n",
       "      <td>0.566667</td>\n",
       "      <td>0.62500</td>\n",
       "      <td>0.400000</td>\n",
       "      <td>0.500000</td>\n",
       "      <td>0.333333</td>\n",
       "      <td>0.727273</td>\n",
       "      <td>0.666667</td>\n",
       "      <td>0.800000</td>\n",
       "    </tr>\n",
       "    <tr>\n",
       "      <th>3</th>\n",
       "      <td>diptanu/fBERT</td>\n",
       "      <td>test</td>\n",
       "      <td>109483778</td>\n",
       "      <td>BASIC_FT</td>\n",
       "      <td></td>\n",
       "      <td>davidson</td>\n",
       "      <td>0</td>\n",
       "      <td>hateval-immigrant</td>\n",
       "      <td>davidson</td>\n",
       "      <td>ZERO_SHOT_not_in_training_stream</td>\n",
       "      <td>...</td>\n",
       "      <td>0.492063</td>\n",
       "      <td>0.566667</td>\n",
       "      <td>0.583333</td>\n",
       "      <td>0.50000</td>\n",
       "      <td>0.555556</td>\n",
       "      <td>0.833333</td>\n",
       "      <td>0.416667</td>\n",
       "      <td>0.428571</td>\n",
       "      <td>0.300000</td>\n",
       "      <td>0.750000</td>\n",
       "    </tr>\n",
       "    <tr>\n",
       "      <th>4</th>\n",
       "      <td>diptanu/fBERT</td>\n",
       "      <td>test</td>\n",
       "      <td>109483778</td>\n",
       "      <td>BASIC_FT</td>\n",
       "      <td></td>\n",
       "      <td>davidson</td>\n",
       "      <td>0</td>\n",
       "      <td>founta_hateful_57k</td>\n",
       "      <td>davidson</td>\n",
       "      <td>ZERO_SHOT_not_in_training_stream</td>\n",
       "      <td>...</td>\n",
       "      <td>0.448276</td>\n",
       "      <td>0.464286</td>\n",
       "      <td>0.433333</td>\n",
       "      <td>0.81250</td>\n",
       "      <td>0.000000</td>\n",
       "      <td>0.000000</td>\n",
       "      <td>0.000000</td>\n",
       "      <td>0.896552</td>\n",
       "      <td>0.928571</td>\n",
       "      <td>0.866667</td>\n",
       "    </tr>\n",
       "  </tbody>\n",
       "</table>\n",
       "<p>5 rows × 26 columns</p>\n",
       "</div>"
      ],
      "text/plain": [
       "           model type_experiment  n_trainable_params cl_technique hyperparams  \\\n",
       "0  diptanu/fBERT            test           109483778     BASIC_FT               \n",
       "1  diptanu/fBERT            test           109483778     BASIC_FT               \n",
       "2  diptanu/fBERT            test           109483778     BASIC_FT               \n",
       "3  diptanu/fBERT            test           109483778     BASIC_FT               \n",
       "4  diptanu/fBERT            test           109483778     BASIC_FT               \n",
       "\n",
       "  experiment_name  time dataset_currently_testing dataset_currently_training  \\\n",
       "0        davidson     0                  davidson                   davidson   \n",
       "1        davidson     0                   evalita                   davidson   \n",
       "2        davidson     0                  ibereval                   davidson   \n",
       "3        davidson     0         hateval-immigrant                   davidson   \n",
       "4        davidson     0        founta_hateful_57k                   davidson   \n",
       "\n",
       "      dataset_wrt_training_datasets  ...  f1_score  precision_score  \\\n",
       "0                       IN_TRAINING  ...  0.513450         0.557692   \n",
       "1  ZERO_SHOT_not_in_training_stream  ...  0.247059         0.250000   \n",
       "2  ZERO_SHOT_not_in_training_stream  ...  0.563636         0.583333   \n",
       "3  ZERO_SHOT_not_in_training_stream  ...  0.492063         0.566667   \n",
       "4  ZERO_SHOT_not_in_training_stream  ...  0.448276         0.464286   \n",
       "\n",
       "   recall_score  accuracy  HATE_f1_score  HATE_precision_score  \\\n",
       "0      0.536437   0.59375       0.315789              0.500000   \n",
       "1      0.246032   0.25000       0.200000              0.187500   \n",
       "2      0.566667   0.62500       0.400000              0.500000   \n",
       "3      0.583333   0.50000       0.555556              0.833333   \n",
       "4      0.433333   0.81250       0.000000              0.000000   \n",
       "\n",
       "   HATE_recall_score  NoHATE_f1_score  NoHATE_precision_score  \\\n",
       "0           0.230769         0.711111                0.615385   \n",
       "1           0.214286         0.294118                0.312500   \n",
       "2           0.333333         0.727273                0.666667   \n",
       "3           0.416667         0.428571                0.300000   \n",
       "4           0.000000         0.896552                0.928571   \n",
       "\n",
       "   NoHATE_recall_score  \n",
       "0             0.842105  \n",
       "1             0.277778  \n",
       "2             0.800000  \n",
       "3             0.750000  \n",
       "4             0.866667  \n",
       "\n",
       "[5 rows x 26 columns]"
      ]
     },
     "execution_count": 44,
     "metadata": {},
     "output_type": "execute_result"
    }
   ],
   "source": [
    "df.head()"
   ]
  },
  {
   "cell_type": "code",
   "execution_count": 45,
   "id": "cd748172",
   "metadata": {},
   "outputs": [
    {
     "data": {
      "text/plain": [
       "array(['test', 'GO'], dtype=object)"
      ]
     },
     "execution_count": 45,
     "metadata": {},
     "output_type": "execute_result"
    }
   ],
   "source": [
    "df[\"type_experiment\"].unique()"
   ]
  },
  {
   "cell_type": "code",
   "execution_count": 46,
   "id": "311a513b",
   "metadata": {},
   "outputs": [],
   "source": [
    "df = df[df[\"type_experiment\"] == \"GO\"]"
   ]
  },
  {
   "cell_type": "code",
   "execution_count": 47,
   "id": "fe12c9f2",
   "metadata": {},
   "outputs": [
    {
     "data": {
      "text/plain": [
       "Index(['model', 'type_experiment', 'n_trainable_params', 'cl_technique',\n",
       "       'hyperparams', 'experiment_name', 'time', 'dataset_currently_testing',\n",
       "       'dataset_currently_training', 'dataset_wrt_training_datasets',\n",
       "       'target_epochs', 'best_epochs', 'learning_rate', 'batch_size',\n",
       "       'current_num_samples_training', 'cumulative_samples_trained',\n",
       "       'f1_score', 'precision_score', 'recall_score', 'accuracy',\n",
       "       'HATE_f1_score', 'HATE_precision_score', 'HATE_recall_score',\n",
       "       'NoHATE_f1_score', 'NoHATE_precision_score', 'NoHATE_recall_score'],\n",
       "      dtype='object')"
      ]
     },
     "execution_count": 47,
     "metadata": {},
     "output_type": "execute_result"
    }
   ],
   "source": [
    "df.columns"
   ]
  },
  {
   "cell_type": "code",
   "execution_count": 48,
   "id": "7f21b28d",
   "metadata": {},
   "outputs": [],
   "source": [
    "from continual_hate.utils import clean_up_df"
   ]
  },
  {
   "cell_type": "code",
   "execution_count": 49,
   "id": "b7696c68",
   "metadata": {},
   "outputs": [
    {
     "data": {
      "text/html": [
       "<div>\n",
       "<style scoped>\n",
       "    .dataframe tbody tr th:only-of-type {\n",
       "        vertical-align: middle;\n",
       "    }\n",
       "\n",
       "    .dataframe tbody tr th {\n",
       "        vertical-align: top;\n",
       "    }\n",
       "\n",
       "    .dataframe thead th {\n",
       "        text-align: right;\n",
       "    }\n",
       "</style>\n",
       "<table border=\"1\" class=\"dataframe\">\n",
       "  <thead>\n",
       "    <tr style=\"text-align: right;\">\n",
       "      <th></th>\n",
       "      <th>Model</th>\n",
       "      <th>Experiment Name</th>\n",
       "      <th>Testing Dataset</th>\n",
       "      <th>F1 Score</th>\n",
       "      <th>Hate Class F1 Score</th>\n",
       "    </tr>\n",
       "  </thead>\n",
       "  <tbody>\n",
       "    <tr>\n",
       "      <th>64</th>\n",
       "      <td>RoBERTa</td>\n",
       "      <td>Davidson</td>\n",
       "      <td>Davidson</td>\n",
       "      <td>0.92</td>\n",
       "      <td>0.88</td>\n",
       "    </tr>\n",
       "    <tr>\n",
       "      <th>65</th>\n",
       "      <td>RoBERTa</td>\n",
       "      <td>Davidson</td>\n",
       "      <td>Evalita</td>\n",
       "      <td>0.63</td>\n",
       "      <td>0.62</td>\n",
       "    </tr>\n",
       "    <tr>\n",
       "      <th>66</th>\n",
       "      <td>RoBERTa</td>\n",
       "      <td>Davidson</td>\n",
       "      <td>IberEval</td>\n",
       "      <td>0.66</td>\n",
       "      <td>0.55</td>\n",
       "    </tr>\n",
       "    <tr>\n",
       "      <th>67</th>\n",
       "      <td>RoBERTa</td>\n",
       "      <td>Davidson</td>\n",
       "      <td>HatEval_immigrant</td>\n",
       "      <td>0.46</td>\n",
       "      <td>0.18</td>\n",
       "    </tr>\n",
       "    <tr>\n",
       "      <th>68</th>\n",
       "      <td>RoBERTa</td>\n",
       "      <td>Davidson</td>\n",
       "      <td>Founta</td>\n",
       "      <td>0.75</td>\n",
       "      <td>0.52</td>\n",
       "    </tr>\n",
       "    <tr>\n",
       "      <th>...</th>\n",
       "      <td>...</td>\n",
       "      <td>...</td>\n",
       "      <td>...</td>\n",
       "      <td>...</td>\n",
       "      <td>...</td>\n",
       "    </tr>\n",
       "    <tr>\n",
       "      <th>187</th>\n",
       "      <td>HateBERT</td>\n",
       "      <td>Waseem_sexism</td>\n",
       "      <td>HatEval_immigrant</td>\n",
       "      <td>0.37</td>\n",
       "      <td>0.00</td>\n",
       "    </tr>\n",
       "    <tr>\n",
       "      <th>188</th>\n",
       "      <td>HateBERT</td>\n",
       "      <td>Waseem_sexism</td>\n",
       "      <td>Davidson</td>\n",
       "      <td>0.48</td>\n",
       "      <td>0.11</td>\n",
       "    </tr>\n",
       "    <tr>\n",
       "      <th>189</th>\n",
       "      <td>HateBERT</td>\n",
       "      <td>Waseem_sexism</td>\n",
       "      <td>Founta</td>\n",
       "      <td>0.53</td>\n",
       "      <td>0.09</td>\n",
       "    </tr>\n",
       "    <tr>\n",
       "      <th>190</th>\n",
       "      <td>HateBERT</td>\n",
       "      <td>Waseem_sexism</td>\n",
       "      <td>HatEval_women</td>\n",
       "      <td>0.44</td>\n",
       "      <td>0.17</td>\n",
       "    </tr>\n",
       "    <tr>\n",
       "      <th>191</th>\n",
       "      <td>HateBERT</td>\n",
       "      <td>Waseem_sexism</td>\n",
       "      <td>Waseem_racism</td>\n",
       "      <td>0.46</td>\n",
       "      <td>0.02</td>\n",
       "    </tr>\n",
       "  </tbody>\n",
       "</table>\n",
       "<p>128 rows × 5 columns</p>\n",
       "</div>"
      ],
      "text/plain": [
       "        Model Experiment Name    Testing Dataset  F1 Score  \\\n",
       "64    RoBERTa        Davidson           Davidson      0.92   \n",
       "65    RoBERTa        Davidson            Evalita      0.63   \n",
       "66    RoBERTa        Davidson           IberEval      0.66   \n",
       "67    RoBERTa        Davidson  HatEval_immigrant      0.46   \n",
       "68    RoBERTa        Davidson             Founta      0.75   \n",
       "..        ...             ...                ...       ...   \n",
       "187  HateBERT   Waseem_sexism  HatEval_immigrant      0.37   \n",
       "188  HateBERT   Waseem_sexism           Davidson      0.48   \n",
       "189  HateBERT   Waseem_sexism             Founta      0.53   \n",
       "190  HateBERT   Waseem_sexism      HatEval_women      0.44   \n",
       "191  HateBERT   Waseem_sexism      Waseem_racism      0.46   \n",
       "\n",
       "     Hate Class F1 Score  \n",
       "64                  0.88  \n",
       "65                  0.62  \n",
       "66                  0.55  \n",
       "67                  0.18  \n",
       "68                  0.52  \n",
       "..                   ...  \n",
       "187                 0.00  \n",
       "188                 0.11  \n",
       "189                 0.09  \n",
       "190                 0.17  \n",
       "191                 0.02  \n",
       "\n",
       "[128 rows x 5 columns]"
      ]
     },
     "execution_count": 49,
     "metadata": {},
     "output_type": "execute_result"
    }
   ],
   "source": [
    "clean_up_df(df[[\"model\", \"experiment_name\", \"dataset_currently_testing\", \"f1_score\", \"HATE_f1_score\"]].round(2))"
   ]
  },
  {
   "cell_type": "code",
   "execution_count": 50,
   "id": "b92ec602",
   "metadata": {},
   "outputs": [],
   "source": [
    "df = df[[\"model\", \"experiment_name\", \"dataset_currently_testing\", \"f1_score\", \"HATE_f1_score\"]].round(2)"
   ]
  },
  {
   "cell_type": "code",
   "execution_count": 51,
   "id": "7c5e2091",
   "metadata": {},
   "outputs": [
    {
     "data": {
      "text/plain": [
       "array(['FacebookAI/roberta-base', 'GroNLP/hateBERT'], dtype=object)"
      ]
     },
     "execution_count": 51,
     "metadata": {},
     "output_type": "execute_result"
    }
   ],
   "source": [
    "df[\"model\"].unique()"
   ]
  },
  {
   "cell_type": "code",
   "execution_count": 52,
   "id": "10b9a522",
   "metadata": {},
   "outputs": [
    {
     "data": {
      "text/html": [
       "<div>\n",
       "<style scoped>\n",
       "    .dataframe tbody tr th:only-of-type {\n",
       "        vertical-align: middle;\n",
       "    }\n",
       "\n",
       "    .dataframe tbody tr th {\n",
       "        vertical-align: top;\n",
       "    }\n",
       "\n",
       "    .dataframe thead th {\n",
       "        text-align: right;\n",
       "    }\n",
       "</style>\n",
       "<table border=\"1\" class=\"dataframe\">\n",
       "  <thead>\n",
       "    <tr style=\"text-align: right;\">\n",
       "      <th></th>\n",
       "      <th>model</th>\n",
       "      <th>experiment_name</th>\n",
       "      <th>dataset_currently_testing</th>\n",
       "      <th>f1_score</th>\n",
       "      <th>HATE_f1_score</th>\n",
       "    </tr>\n",
       "  </thead>\n",
       "  <tbody>\n",
       "    <tr>\n",
       "      <th>128</th>\n",
       "      <td>GroNLP/hateBERT</td>\n",
       "      <td>davidson</td>\n",
       "      <td>davidson</td>\n",
       "      <td>0.89</td>\n",
       "      <td>0.83</td>\n",
       "    </tr>\n",
       "    <tr>\n",
       "      <th>129</th>\n",
       "      <td>GroNLP/hateBERT</td>\n",
       "      <td>davidson</td>\n",
       "      <td>evalita</td>\n",
       "      <td>0.62</td>\n",
       "      <td>0.56</td>\n",
       "    </tr>\n",
       "    <tr>\n",
       "      <th>130</th>\n",
       "      <td>GroNLP/hateBERT</td>\n",
       "      <td>davidson</td>\n",
       "      <td>ibereval</td>\n",
       "      <td>0.48</td>\n",
       "      <td>0.19</td>\n",
       "    </tr>\n",
       "    <tr>\n",
       "      <th>131</th>\n",
       "      <td>GroNLP/hateBERT</td>\n",
       "      <td>davidson</td>\n",
       "      <td>hateval-immigrant</td>\n",
       "      <td>0.39</td>\n",
       "      <td>0.04</td>\n",
       "    </tr>\n",
       "    <tr>\n",
       "      <th>132</th>\n",
       "      <td>GroNLP/hateBERT</td>\n",
       "      <td>davidson</td>\n",
       "      <td>founta_hateful_57k</td>\n",
       "      <td>0.68</td>\n",
       "      <td>0.38</td>\n",
       "    </tr>\n",
       "    <tr>\n",
       "      <th>...</th>\n",
       "      <td>...</td>\n",
       "      <td>...</td>\n",
       "      <td>...</td>\n",
       "      <td>...</td>\n",
       "      <td>...</td>\n",
       "    </tr>\n",
       "    <tr>\n",
       "      <th>187</th>\n",
       "      <td>GroNLP/hateBERT</td>\n",
       "      <td>waseem-sexism</td>\n",
       "      <td>hateval-immigrant</td>\n",
       "      <td>0.37</td>\n",
       "      <td>0.00</td>\n",
       "    </tr>\n",
       "    <tr>\n",
       "      <th>188</th>\n",
       "      <td>GroNLP/hateBERT</td>\n",
       "      <td>waseem-sexism</td>\n",
       "      <td>davidson</td>\n",
       "      <td>0.48</td>\n",
       "      <td>0.11</td>\n",
       "    </tr>\n",
       "    <tr>\n",
       "      <th>189</th>\n",
       "      <td>GroNLP/hateBERT</td>\n",
       "      <td>waseem-sexism</td>\n",
       "      <td>founta_hateful_57k</td>\n",
       "      <td>0.53</td>\n",
       "      <td>0.09</td>\n",
       "    </tr>\n",
       "    <tr>\n",
       "      <th>190</th>\n",
       "      <td>GroNLP/hateBERT</td>\n",
       "      <td>waseem-sexism</td>\n",
       "      <td>hateval-women</td>\n",
       "      <td>0.44</td>\n",
       "      <td>0.17</td>\n",
       "    </tr>\n",
       "    <tr>\n",
       "      <th>191</th>\n",
       "      <td>GroNLP/hateBERT</td>\n",
       "      <td>waseem-sexism</td>\n",
       "      <td>waseem-racism</td>\n",
       "      <td>0.46</td>\n",
       "      <td>0.02</td>\n",
       "    </tr>\n",
       "  </tbody>\n",
       "</table>\n",
       "<p>64 rows × 5 columns</p>\n",
       "</div>"
      ],
      "text/plain": [
       "               model experiment_name dataset_currently_testing  f1_score  \\\n",
       "128  GroNLP/hateBERT        davidson                  davidson      0.89   \n",
       "129  GroNLP/hateBERT        davidson                   evalita      0.62   \n",
       "130  GroNLP/hateBERT        davidson                  ibereval      0.48   \n",
       "131  GroNLP/hateBERT        davidson         hateval-immigrant      0.39   \n",
       "132  GroNLP/hateBERT        davidson        founta_hateful_57k      0.68   \n",
       "..               ...             ...                       ...       ...   \n",
       "187  GroNLP/hateBERT   waseem-sexism         hateval-immigrant      0.37   \n",
       "188  GroNLP/hateBERT   waseem-sexism                  davidson      0.48   \n",
       "189  GroNLP/hateBERT   waseem-sexism        founta_hateful_57k      0.53   \n",
       "190  GroNLP/hateBERT   waseem-sexism             hateval-women      0.44   \n",
       "191  GroNLP/hateBERT   waseem-sexism             waseem-racism      0.46   \n",
       "\n",
       "     HATE_f1_score  \n",
       "128           0.83  \n",
       "129           0.56  \n",
       "130           0.19  \n",
       "131           0.04  \n",
       "132           0.38  \n",
       "..             ...  \n",
       "187           0.00  \n",
       "188           0.11  \n",
       "189           0.09  \n",
       "190           0.17  \n",
       "191           0.02  \n",
       "\n",
       "[64 rows x 5 columns]"
      ]
     },
     "execution_count": 52,
     "metadata": {},
     "output_type": "execute_result"
    }
   ],
   "source": [
    "df[df[\"model\"] == \"GroNLP/hateBERT\"]"
   ]
  },
  {
   "cell_type": "code",
   "execution_count": 53,
   "id": "9124ec10",
   "metadata": {},
   "outputs": [],
   "source": [
    "clean_up_df(df[[\"model\", \"experiment_name\", \"dataset_currently_testing\", \"f1_score\", \"HATE_f1_score\"]].round(2)).to_latex(\"finetuning\")"
   ]
  },
  {
   "cell_type": "code",
   "execution_count": 54,
   "id": "9422f1e9",
   "metadata": {},
   "outputs": [],
   "source": [
    "df.to_csv(\"df_plm_ft.csv\", index=False)"
   ]
  }
 ],
 "metadata": {
  "kernelspec": {
   "display_name": "Python 3",
   "language": "python",
   "name": "python3"
  },
  "language_info": {
   "codemirror_mode": {
    "name": "ipython",
    "version": 3
   },
   "file_extension": ".py",
   "mimetype": "text/x-python",
   "name": "python",
   "nbconvert_exporter": "python",
   "pygments_lexer": "ipython3",
   "version": "3.12.0"
  }
 },
 "nbformat": 4,
 "nbformat_minor": 5
}
